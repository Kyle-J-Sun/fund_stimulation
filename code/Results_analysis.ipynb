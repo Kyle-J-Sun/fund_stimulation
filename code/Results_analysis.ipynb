{
 "cells": [
  {
   "cell_type": "markdown",
   "metadata": {},
   "source": [
    "# Simulation Results Analysis\n",
    "\n",
    "__Script Name__: Results_analysis.ipynb\n",
    "\n",
    "__Author__: Jingkai Sun\n",
    "\n",
    "__Email Address__: jingkai.sun20@imperial.ac.uk"
   ]
  },
  {
   "cell_type": "markdown",
   "metadata": {},
   "source": [
    "## Library Packages"
   ]
  },
  {
   "cell_type": "code",
   "execution_count": 1,
   "metadata": {},
   "outputs": [],
   "source": [
    "options(warn=-1)\n",
    "suppressMessages(library(ggplot2))\n",
    "suppressMessages(library(dplyr))\n",
    "suppressMessages(require(tidyverse))\n",
    "suppressMessages(require(Cairo))\n",
    "suppressMessages(require(showtext))\n",
    "rm(list = ls())"
   ]
  },
  {
   "cell_type": "markdown",
   "metadata": {},
   "source": [
    "## Loading datasets"
   ]
  },
  {
   "cell_type": "code",
   "execution_count": 2,
   "metadata": {},
   "outputs": [],
   "source": [
    "# Loading datasets\n",
    "roll1_F_1010 <- rbind(read.csv(\"../result/fund_simulation/random_161005.OF_alphaFalse_rolling1years_10_10.csv\"),\n",
    "      read.csv(\"../result/fund_simulation/random_163402.OF_alphaFalse_rolling1years_10_10.csv\"),\n",
    "      read.csv(\"../result/fund_simulation/random_340006.OF_alphaFalse_rolling1years_10_10.csv\"),\n",
    "      read.csv(\"../result/fund_simulation/random_519005.OF_alphaFalse_rolling1years_10_10.csv\"))\n",
    "\n",
    "roll2_F_1010 <- rbind(read.csv(\"../result/fund_simulation/random_161005.OF_alphaFalse_rolling2years_10_10.csv\"),\n",
    "      read.csv(\"../result/fund_simulation/random_163402.OF_alphaFalse_rolling2years_10_10.csv\"),\n",
    "      read.csv(\"../result/fund_simulation/random_340006.OF_alphaFalse_rolling2years_10_10.csv\"),\n",
    "      read.csv(\"../result/fund_simulation/random_519005.OF_alphaFalse_rolling2years_10_10.csv\"))\n",
    "\n",
    "roll3_F_1010 <- rbind(read.csv(\"../result/fund_simulation/random_161005.OF_alphaFalse_rolling3years_10_10.csv\"),\n",
    "      read.csv(\"../result/fund_simulation/random_163402.OF_alphaFalse_rolling3years_10_10.csv\"),\n",
    "      read.csv(\"../result/fund_simulation/random_340006.OF_alphaFalse_rolling3years_10_10.csv\"),\n",
    "      read.csv(\"../result/fund_simulation/random_519005.OF_alphaFalse_rolling3years_10_10.csv\"))"
   ]
  },
  {
   "cell_type": "code",
   "execution_count": 3,
   "metadata": {},
   "outputs": [],
   "source": [
    "roll1_T_1010 <- rbind(read.csv(\"../result/fund_simulation/random_161005.OF_alphaTrue_rolling1years_10_10.csv\"),\n",
    "      read.csv(\"../result/fund_simulation/random_163402.OF_alphaTrue_rolling1years_10_10.csv\"),\n",
    "      read.csv(\"../result/fund_simulation/random_340006.OF_alphaTrue_rolling1years_10_10.csv\"),\n",
    "      read.csv(\"../result/fund_simulation/random_519005.OF_alphaTrue_rolling1years_10_10.csv\"))\n",
    "\n",
    "roll2_T_1010 <- rbind(read.csv(\"../result/fund_simulation/random_161005.OF_alphaTrue_rolling2years_10_10.csv\"),\n",
    "      read.csv(\"../result/fund_simulation/random_163402.OF_alphaTrue_rolling2years_10_10.csv\"),\n",
    "      read.csv(\"../result/fund_simulation/random_340006.OF_alphaTrue_rolling2years_10_10.csv\"),\n",
    "      read.csv(\"../result/fund_simulation/random_519005.OF_alphaTrue_rolling2years_10_10.csv\"))\n",
    "\n",
    "roll3_T_1010 <- rbind(read.csv(\"../result/fund_simulation/random_161005.OF_alphaTrue_rolling3years_10_10.csv\"),\n",
    "      read.csv(\"../result/fund_simulation/random_163402.OF_alphaTrue_rolling3years_10_10.csv\"),\n",
    "      read.csv(\"../result/fund_simulation/random_340006.OF_alphaTrue_rolling3years_10_10.csv\"),\n",
    "      read.csv(\"../result/fund_simulation/random_519005.OF_alphaTrue_rolling3years_10_10.csv\"))"
   ]
  },
  {
   "cell_type": "code",
   "execution_count": 4,
   "metadata": {},
   "outputs": [],
   "source": [
    "roll1_F_5030 <- rbind(read.csv(\"../result/fund_simulation/random_161005.OF_alphaFalse_rolling1years_50_30.csv\"),\n",
    "      read.csv(\"../result/fund_simulation/random_163402.OF_alphaFalse_rolling1years_50_30.csv\"),\n",
    "      read.csv(\"../result/fund_simulation/random_340006.OF_alphaFalse_rolling1years_50_30.csv\"),\n",
    "      read.csv(\"../result/fund_simulation/random_519005.OF_alphaFalse_rolling1years_50_30.csv\"))\n",
    "\n",
    "roll2_F_5030 <- rbind(read.csv(\"../result/fund_simulation/random_161005.OF_alphaFalse_rolling2years_50_30.csv\"),\n",
    "      read.csv(\"../result/fund_simulation/random_163402.OF_alphaFalse_rolling2years_50_30.csv\"),\n",
    "      read.csv(\"../result/fund_simulation/random_340006.OF_alphaFalse_rolling2years_50_30.csv\"),\n",
    "      read.csv(\"../result/fund_simulation/random_519005.OF_alphaFalse_rolling2years_50_30.csv\"))\n",
    "\n",
    "roll3_F_5030 <- rbind(read.csv(\"../result/fund_simulation/random_161005.OF_alphaFalse_rolling3years_50_30.csv\"),\n",
    "      read.csv(\"../result/fund_simulation/random_163402.OF_alphaFalse_rolling3years_50_30.csv\"),\n",
    "      read.csv(\"../result/fund_simulation/random_340006.OF_alphaFalse_rolling3years_50_30.csv\"),\n",
    "      read.csv(\"../result/fund_simulation/random_519005.OF_alphaFalse_rolling3years_50_30.csv\"))"
   ]
  },
  {
   "cell_type": "code",
   "execution_count": 5,
   "metadata": {},
   "outputs": [],
   "source": [
    "roll1_T_5030 <- rbind(read.csv(\"../result/fund_simulation/random_161005.OF_alphaTrue_rolling1years_50_30.csv\"),\n",
    "      read.csv(\"../result/fund_simulation/random_163402.OF_alphaTrue_rolling1years_50_30.csv\"),\n",
    "      read.csv(\"../result/fund_simulation/random_340006.OF_alphaTrue_rolling1years_50_30.csv\"),\n",
    "      read.csv(\"../result/fund_simulation/random_519005.OF_alphaTrue_rolling1years_50_30.csv\"))\n",
    "\n",
    "roll2_T_5030 <- rbind(read.csv(\"../result/fund_simulation/random_161005.OF_alphaTrue_rolling2years_50_30.csv\"),\n",
    "      read.csv(\"../result/fund_simulation/random_163402.OF_alphaTrue_rolling2years_50_30.csv\"),\n",
    "      read.csv(\"../result/fund_simulation/random_340006.OF_alphaTrue_rolling2years_50_30.csv\"),\n",
    "      read.csv(\"../result/fund_simulation/random_519005.OF_alphaTrue_rolling2years_50_30.csv\"))\n",
    "\n",
    "roll3_T_5030 <- rbind(read.csv(\"../result/fund_simulation/random_161005.OF_alphaTrue_rolling3years_50_30.csv\"),\n",
    "      read.csv(\"../result/fund_simulation/random_163402.OF_alphaTrue_rolling3years_50_30.csv\"),\n",
    "      read.csv(\"../result/fund_simulation/random_340006.OF_alphaTrue_rolling3years_50_30.csv\"),\n",
    "      read.csv(\"../result/fund_simulation/random_519005.OF_alphaTrue_rolling3years_50_30.csv\"))"
   ]
  },
  {
   "cell_type": "markdown",
   "metadata": {},
   "source": [
    "## Combining Datasets"
   ]
  },
  {
   "cell_type": "code",
   "execution_count": 10,
   "metadata": {},
   "outputs": [],
   "source": [
    "roll1_5030 <- rbind(roll1_T_5030, roll1_F_5030)\n",
    "roll2_5030 <- rbind(roll2_T_5030, roll2_F_5030)\n",
    "roll3_5030 <- rbind(roll3_T_5030, roll3_F_5030)"
   ]
  },
  {
   "cell_type": "code",
   "execution_count": 11,
   "metadata": {},
   "outputs": [],
   "source": [
    "roll1_1010 <- rbind(roll1_T_1010, roll1_F_1010)\n",
    "roll2_1010 <- rbind(roll2_T_1010, roll2_F_1010)\n",
    "roll3_1010 <- rbind(roll3_T_1010, roll3_F_1010)"
   ]
  },
  {
   "cell_type": "markdown",
   "metadata": {},
   "source": [
    "## Saving into local directory"
   ]
  },
  {
   "cell_type": "code",
   "execution_count": 13,
   "metadata": {},
   "outputs": [],
   "source": [
    "write.csv(roll1_1010, \"../result/Random_RW1_1010.csv\")\n",
    "write.csv(roll2_1010, \"../result/Random_RW2_1010.csv\")\n",
    "write.csv(roll3_1010, \"../result/Random_RW3_1010.csv\")\n",
    "\n",
    "write.csv(roll1_5030, \"../result/Random_RW1_5030.csv\")\n",
    "write.csv(roll2_5030, \"../result/Random_RW2_5030.csv\")\n",
    "write.csv(roll3_5030, \"../result/Random_RW3_5030.csv\")"
   ]
  },
  {
   "cell_type": "code",
   "execution_count": null,
   "metadata": {},
   "outputs": [],
   "source": []
  }
 ],
 "metadata": {
  "kernelspec": {
   "display_name": "R",
   "language": "R",
   "name": "ir"
  },
  "language_info": {
   "codemirror_mode": "r",
   "file_extension": ".r",
   "mimetype": "text/x-r-source",
   "name": "R",
   "pygments_lexer": "r",
   "version": "4.0.3"
  }
 },
 "nbformat": 4,
 "nbformat_minor": 4
}
